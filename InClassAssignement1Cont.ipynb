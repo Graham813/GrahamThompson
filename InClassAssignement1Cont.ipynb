{
  "nbformat": 4,
  "nbformat_minor": 0,
  "metadata": {
    "colab": {
      "provenance": [],
      "authorship_tag": "ABX9TyOSGLzAnWgnePQdsCngktMS",
      "include_colab_link": true
    },
    "kernelspec": {
      "name": "python3",
      "display_name": "Python 3"
    },
    "language_info": {
      "name": "python"
    }
  },
  "cells": [
    {
      "cell_type": "markdown",
      "metadata": {
        "id": "view-in-github",
        "colab_type": "text"
      },
      "source": [
        "<a href=\"https://colab.research.google.com/github/Graham813/GrahamThompson/blob/main/InClassAssignement1Cont.ipynb\" target=\"_parent\"><img src=\"https://colab.research.google.com/assets/colab-badge.svg\" alt=\"Open In Colab\"/></a>"
      ]
    },
    {
      "cell_type": "code",
      "execution_count": null,
      "metadata": {
        "colab": {
          "base_uri": "https://localhost:8080/"
        },
        "id": "SsR_NgroWdnA",
        "outputId": "9fae55b7-512a-46f7-c9da-b02af18f31fc"
      },
      "outputs": [
        {
          "output_type": "stream",
          "name": "stdout",
          "text": [
            "Please provide your name: Graham\n",
            "Hi Graham\n"
          ]
        },
        {
          "output_type": "execute_result",
          "data": {
            "text/plain": [
              "str"
            ]
          },
          "metadata": {},
          "execution_count": 2
        }
      ],
      "source": [
        "name = input(\"Please provide your name: \")\n",
        "print('Hi', name)\n",
        "type(name)\n",
        "\n"
      ]
    },
    {
      "cell_type": "code",
      "source": [
        "age = int(input(\"Please provide your age: \"))\n",
        "print(age + 10)\n",
        "type(age)\n"
      ],
      "metadata": {
        "colab": {
          "base_uri": "https://localhost:8080/"
        },
        "id": "ZQVpLnmKXi5E",
        "outputId": "80286689-e212-46e0-f706-0362d719cc95"
      },
      "execution_count": null,
      "outputs": [
        {
          "output_type": "stream",
          "name": "stdout",
          "text": [
            "Please provide your age: 18\n",
            "28\n"
          ]
        },
        {
          "output_type": "execute_result",
          "data": {
            "text/plain": [
              "int"
            ]
          },
          "metadata": {},
          "execution_count": 5
        }
      ]
    },
    {
      "cell_type": "code",
      "source": [
        "x = 2\n",
        "y = 3\n",
        "\n",
        "if x < y:\n",
        "  print(\"x less than y\")"
      ],
      "metadata": {
        "colab": {
          "base_uri": "https://localhost:8080/"
        },
        "id": "6tiIq3a9gIg9",
        "outputId": "5fcc8754-fc3d-41a6-cbd1-b2c399939b23"
      },
      "execution_count": null,
      "outputs": [
        {
          "output_type": "stream",
          "name": "stdout",
          "text": [
            "x less than y\n"
          ]
        }
      ]
    },
    {
      "cell_type": "code",
      "source": [
        "customer_type = input('Please enter customer type (N: new/ E:existing): ')\n",
        "deposit = float(input('Please enter deposit amount: '))\n",
        "\n",
        "if customer_type == 'E' and deposit >= 10_000:\n",
        "  ir = 3.5\n",
        "elif customer_type == 'E' and deposit >= 1_000:\n",
        "  ir = 3.25\n",
        "elif customer_type == 'E' and deposit < 1_000:\n",
        "  ir = 3.0\n",
        "elif customer_type == 'N':\n",
        "  ir = 4\n",
        "total = (1 + ir/100) * deposit\n",
        "print(f'Total deposit: {total}$')\n"
      ],
      "metadata": {
        "colab": {
          "base_uri": "https://localhost:8080/"
        },
        "id": "kS0maa0zYn7q",
        "outputId": "ca1a11bf-3183-4e93-9ca1-f1c1499c74dc"
      },
      "execution_count": null,
      "outputs": [
        {
          "output_type": "stream",
          "name": "stdout",
          "text": [
            "Please enter customer type (N: new/ E:existing): N\n",
            "Please enter deposit amount: 4500\n",
            "Total deposit: 4680.0$\n"
          ]
        }
      ]
    },
    {
      "cell_type": "code",
      "source": [
        "x = int(input('Please enter first number: '))\n",
        "sym = (input('Please enter sign: '))\n",
        "y = int(input('Please enter second number: '))\n",
        "if sym == '+':\n",
        "  print(x + y)\n",
        "elif sym == '-':\n",
        "  print(x - y)\n",
        "elif sym == '*':\n",
        "  print(x * y)\n",
        "elif sym == '/':\n",
        "  print(x / y)\n",
        "elif sym == '%':\n",
        "  print(x % y)\n",
        "elif sym == '**':\n",
        "  print(x ** y)\n",
        "elif sym == '//':\n",
        "  print(x // y)"
      ],
      "metadata": {
        "colab": {
          "base_uri": "https://localhost:8080/"
        },
        "id": "HtdafF1_cLhz",
        "outputId": "4e4189ef-cb4b-483f-fb6b-937d2e510b68"
      },
      "execution_count": null,
      "outputs": [
        {
          "output_type": "stream",
          "name": "stdout",
          "text": [
            "Please enter first number: 3\n",
            "Please enter sign: **\n",
            "Please enter second number: 4\n",
            "81\n"
          ]
        }
      ]
    }
  ]
}