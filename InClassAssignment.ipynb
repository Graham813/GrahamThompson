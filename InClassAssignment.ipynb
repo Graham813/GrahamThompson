{
  "nbformat": 4,
  "nbformat_minor": 0,
  "metadata": {
    "colab": {
      "provenance": [],
      "authorship_tag": "ABX9TyPx5Ie9lMeu2PC7opIqEexs",
      "include_colab_link": true
    },
    "kernelspec": {
      "name": "python3",
      "display_name": "Python 3"
    },
    "language_info": {
      "name": "python"
    }
  },
  "cells": [
    {
      "cell_type": "markdown",
      "metadata": {
        "id": "view-in-github",
        "colab_type": "text"
      },
      "source": [
        "<a href=\"https://colab.research.google.com/github/Graham813/GrahamThompson/blob/main/InClassAssignment.ipynb\" target=\"_parent\"><img src=\"https://colab.research.google.com/assets/colab-badge.svg\" alt=\"Open In Colab\"/></a>"
      ]
    },
    {
      "cell_type": "code",
      "execution_count": null,
      "metadata": {
        "colab": {
          "base_uri": "https://localhost:8080/"
        },
        "id": "mx7dI0ZZZ5MQ",
        "outputId": "5e589265-7eea-4983-f0e1-6df534b9343b"
      },
      "outputs": [
        {
          "output_type": "stream",
          "name": "stdout",
          "text": [
            "Pi:  3.14\n",
            "Radius of Cylinder: 3\n",
            "Height of Cylinder: 6\n",
            "Area of Cylinder = 169.56 sq. ft\n"
          ]
        }
      ],
      "source": [
        "pi = 3.14\n",
        "print(\"Pi: \", pi)\n",
        "R = float(input(\"Radius of Cylinder: \"))\n",
        "H = float(input(\"Height of Cylinder: \"))\n",
        "area = (2*pi*(R**2) + (2*pi*R*H))\n",
        "print(f'Area of Cylinder = {area} sq. ft')"
      ]
    },
    {
      "cell_type": "code",
      "source": [
        "for numberHours in range(1, 9, 1):\n",
        "  fee = 5 + (numberHours * 2.5)\n",
        "  if fee < 10:\n",
        "    fee = 10\n",
        "  elif fee > 20:\n",
        "      fee = 20\n",
        "  print(numberHours, fee)\n"
      ],
      "metadata": {
        "id": "K1Z-tNSi1MQL",
        "colab": {
          "base_uri": "https://localhost:8080/"
        },
        "outputId": "5a7da16f-96f8-4358-8650-646ba7a3a4bb"
      },
      "execution_count": null,
      "outputs": [
        {
          "output_type": "stream",
          "name": "stdout",
          "text": [
            "1 10\n",
            "2 10.0\n",
            "3 12.5\n",
            "4 15.0\n",
            "5 17.5\n",
            "6 20.0\n",
            "7 20\n",
            "8 20\n"
          ]
        }
      ]
    },
    {
      "cell_type": "code",
      "source": [
        "for advertisingDollars in range(0, 201, 25):\n",
        "  add = 2 * round(advertisingDollars ** .5)\n",
        "  profit = ((20 + add) * 10) - (200 + advertisingDollars)\n",
        "  print(advertisingDollars, profit)\n",
        "\n",
        "\n"
      ],
      "metadata": {
        "colab": {
          "base_uri": "https://localhost:8080/"
        },
        "id": "ICdFRCdIOQDt",
        "outputId": "f7a03fad-ab67-49e5-c113-7c5f977f51e1"
      },
      "execution_count": null,
      "outputs": [
        {
          "output_type": "stream",
          "name": "stdout",
          "text": [
            "0 0\n",
            "25 75\n",
            "50 90\n",
            "75 105\n",
            "100 100\n",
            "125 95\n",
            "150 90\n",
            "175 85\n",
            "200 80\n"
          ]
        }
      ]
    },
    {
      "cell_type": "code",
      "source": [
        "play = input(\"Play rock, paper, scissors? (y/n): \")\n",
        "while play == \"y\":\n",
        "  p1 = input('Player 1 (rock, paper, scissors): ')\n",
        "  p2 = input('Player 2 (rock, paper, scissors): ')\n",
        "\n",
        "\n",
        "  if p1 == p2:\n",
        "    print(\"It's a tie!\")\n",
        "  elif p1 == 'rock':\n",
        "    if p2 == 'scissors':\n",
        "      print('Player 1 wins!')\n",
        "    else:\n",
        "      print('Player 2 wins!')\n",
        "  elif p1 == 'paper':\n",
        "    if p2 == 'rock':\n",
        "      print('Player 1 wins!')\n",
        "    else:\n",
        "      print('Player 2 wins!')\n",
        "  elif p1 == 'scissors':\n",
        "    if p2 == 'paper':\n",
        "      print('Player 1 wins!')\n",
        "    else:\n",
        "      print('Player 2 wins!')\n",
        "  play = input(\"Play rock, paper, scissors? (y/n): \")\n",
        "\n",
        "\n"
      ],
      "metadata": {
        "colab": {
          "base_uri": "https://localhost:8080/"
        },
        "id": "OeqljL975q_d",
        "outputId": "1fee1b5f-7685-4907-b5ef-b5ee6d6d8ce4"
      },
      "execution_count": 6,
      "outputs": [
        {
          "name": "stdout",
          "output_type": "stream",
          "text": [
            "Play rock, paper, scissors? (y/n): y\n",
            "Player 1 (rock, paper, scissors): rock\n",
            "Player 2 (rock, paper, scissors): paper\n",
            "Player 2 wins!\n",
            "Play rock, paper, scissors? (y/n): n\n"
          ]
        }
      ]
    }
  ]
}