{
  "nbformat": 4,
  "nbformat_minor": 0,
  "metadata": {
    "colab": {
      "provenance": [],
      "authorship_tag": "ABX9TyMhdiXZWupWmVLSOQSbDytB",
      "include_colab_link": true
    },
    "kernelspec": {
      "name": "python3",
      "display_name": "Python 3"
    },
    "language_info": {
      "name": "python"
    }
  },
  "cells": [
    {
      "cell_type": "markdown",
      "metadata": {
        "id": "view-in-github",
        "colab_type": "text"
      },
      "source": [
        "<a href=\"https://colab.research.google.com/github/Graham813/GrahamThompson/blob/main/InClassAssignment.ipynb\" target=\"_parent\"><img src=\"https://colab.research.google.com/assets/colab-badge.svg\" alt=\"Open In Colab\"/></a>"
      ]
    },
    {
      "cell_type": "code",
      "execution_count": null,
      "metadata": {
        "colab": {
          "base_uri": "https://localhost:8080/"
        },
        "id": "mx7dI0ZZZ5MQ",
        "outputId": "5e589265-7eea-4983-f0e1-6df534b9343b"
      },
      "outputs": [
        {
          "output_type": "stream",
          "name": "stdout",
          "text": [
            "Pi:  3.14\n",
            "Radius of Cylinder: 3\n",
            "Height of Cylinder: 6\n",
            "Area of Cylinder = 169.56 sq. ft\n"
          ]
        }
      ],
      "source": [
        "pi = 3.14\n",
        "print(\"Pi: \", pi)\n",
        "R = float(input(\"Radius of Cylinder: \"))\n",
        "H = float(input(\"Height of Cylinder: \"))\n",
        "area = (2*pi*(R**2) + (2*pi*R*H))\n",
        "print(f'Area of Cylinder = {area} sq. ft')"
      ]
    },
    {
      "cell_type": "code",
      "source": [
        "for numberHours in range(1, 9, 1):\n",
        "  fee = 5 + (numberHours * 2.5)\n",
        "  if fee < 10:\n",
        "    fee = 10\n",
        "  elif fee > 20:\n",
        "      fee = 20\n",
        "  print(numberHours, fee)\n"
      ],
      "metadata": {
        "id": "K1Z-tNSi1MQL",
        "colab": {
          "base_uri": "https://localhost:8080/"
        },
        "outputId": "5a7da16f-96f8-4358-8650-646ba7a3a4bb"
      },
      "execution_count": null,
      "outputs": [
        {
          "output_type": "stream",
          "name": "stdout",
          "text": [
            "1 10\n",
            "2 10.0\n",
            "3 12.5\n",
            "4 15.0\n",
            "5 17.5\n",
            "6 20.0\n",
            "7 20\n",
            "8 20\n"
          ]
        }
      ]
    },
    {
      "cell_type": "code",
      "source": [
        "for advertisingDollars in range(0, 201, 25):\n",
        "  add = 2 * round(advertisingDollars ** .5)\n",
        "  profit = ((20 + add) * 10) - (200 + advertisingDollars)\n",
        "  print(advertisingDollars, profit)\n",
        "\n",
        "\n"
      ],
      "metadata": {
        "colab": {
          "base_uri": "https://localhost:8080/"
        },
        "id": "ICdFRCdIOQDt",
        "outputId": "f7a03fad-ab67-49e5-c113-7c5f977f51e1"
      },
      "execution_count": null,
      "outputs": [
        {
          "output_type": "stream",
          "name": "stdout",
          "text": [
            "0 0\n",
            "25 75\n",
            "50 90\n",
            "75 105\n",
            "100 100\n",
            "125 95\n",
            "150 90\n",
            "175 85\n",
            "200 80\n"
          ]
        }
      ]
    },
    {
      "cell_type": "code",
      "source": [
        "play = input(\"Play rock, paper, scissors? (y/n): \")\n",
        "while play == \"y\":\n",
        "  p1 = input('Player 1 (rock, paper, scissors): ')\n",
        "  p2 = input('Player 2 (rock, paper, scissors): ')\n",
        "\n",
        "\n",
        "  if p1 == p2:\n",
        "    print(\"It's a tie!\")\n",
        "  elif p1 == 'rock':\n",
        "    if p2 == 'scissors':\n",
        "      print('Player 1 wins!')\n",
        "    else:\n",
        "      print('Player 2 wins!')\n",
        "  elif p1 == 'paper':\n",
        "    if p2 == 'rock':\n",
        "      print('Player 1 wins!')\n",
        "    else:\n",
        "      print('Player 2 wins!')\n",
        "  elif p1 == 'scissors':\n",
        "    if p2 == 'paper':\n",
        "      print('Player 1 wins!')\n",
        "    else:\n",
        "      print('Player 2 wins!')\n",
        "  play = input(\"Play rock, paper, scissors? (y/n): \")\n",
        "\n",
        "\n"
      ],
      "metadata": {
        "colab": {
          "base_uri": "https://localhost:8080/"
        },
        "id": "OeqljL975q_d",
        "outputId": "36071a6a-db62-4705-a8bc-fff7477d1135"
      },
      "execution_count": 1,
      "outputs": [
        {
          "name": "stdout",
          "output_type": "stream",
          "text": [
            "Play rock, paper, scissors? (y/n): y\n",
            "Player 1 (rock, paper, scissors): rock\n",
            "Player 2 (rock, paper, scissors): paper\n",
            "Player 2 wins!\n",
            "Play rock, paper, scissors? (y/n): n\n"
          ]
        }
      ]
    },
    {
      "cell_type": "code",
      "source": [
        "s = \"This is a string,\"\n",
        "s2 = \" and this is a string too\"\n",
        "s + s2"
      ],
      "metadata": {
        "colab": {
          "base_uri": "https://localhost:8080/",
          "height": 35
        },
        "id": "Il9aYDaoRcvb",
        "outputId": "ca424aab-d8a3-4ddd-a3f0-4134eee7f0ee"
      },
      "execution_count": null,
      "outputs": [
        {
          "output_type": "execute_result",
          "data": {
            "text/plain": [
              "'This is a string,and this is a string too'"
            ],
            "application/vnd.google.colaboratory.intrinsic+json": {
              "type": "string"
            }
          },
          "metadata": {},
          "execution_count": 2
        }
      ]
    },
    {
      "cell_type": "code",
      "source": [
        "emptyT = ()\n",
        "emptyT = emptyT + (4,)\n",
        "print(emptyT)\n"
      ],
      "metadata": {
        "colab": {
          "base_uri": "https://localhost:8080/"
        },
        "id": "ACZ09RhdPLux",
        "outputId": "2a59bbf7-65bb-42bc-e93f-c1984849a95a"
      },
      "execution_count": 4,
      "outputs": [
        {
          "output_type": "stream",
          "name": "stdout",
          "text": [
            "(4,)\n"
          ]
        }
      ]
    },
    {
      "cell_type": "code",
      "source": [
        "grades = {\n",
        "    'John' : 95,\n",
        "    'Jane' : 99,\n",
        "    'Bob' : 91,\n",
        "    'Alice' : 92\n",
        "}"
      ],
      "metadata": {
        "id": "plXT5BdjSPKE"
      },
      "execution_count": 6,
      "outputs": []
    },
    {
      "cell_type": "code",
      "source": [
        "grades['Bob']"
      ],
      "metadata": {
        "colab": {
          "base_uri": "https://localhost:8080/"
        },
        "id": "MezGEe_fSgfQ",
        "outputId": "9f793e28-ddaf-4897-db8c-35247ac356ea"
      },
      "execution_count": 7,
      "outputs": [
        {
          "output_type": "execute_result",
          "data": {
            "text/plain": [
              "91"
            ]
          },
          "metadata": {},
          "execution_count": 7
        }
      ]
    },
    {
      "cell_type": "code",
      "source": [
        "grades['Bryan'] = 88\n",
        "grades"
      ],
      "metadata": {
        "colab": {
          "base_uri": "https://localhost:8080/"
        },
        "id": "kimHBorlSxba",
        "outputId": "2a0c4b75-3c40-47a1-96e6-c1df07e26b77"
      },
      "execution_count": 8,
      "outputs": [
        {
          "output_type": "execute_result",
          "data": {
            "text/plain": [
              "{'John': 95, 'Jane': 99, 'Bob': 91, 'Alice': 92, 'Bryan': 88}"
            ]
          },
          "metadata": {},
          "execution_count": 8
        }
      ]
    },
    {
      "cell_type": "code",
      "source": [
        "del(grades['Bryan'])\n",
        "grades"
      ],
      "metadata": {
        "colab": {
          "base_uri": "https://localhost:8080/"
        },
        "id": "FPVkVc_0T6y_",
        "outputId": "1700ffe7-7496-416d-cc5c-50f331da8b3a"
      },
      "execution_count": 9,
      "outputs": [
        {
          "output_type": "execute_result",
          "data": {
            "text/plain": [
              "{'John': 95, 'Jane': 99, 'Bob': 91, 'Alice': 92}"
            ]
          },
          "metadata": {},
          "execution_count": 9
        }
      ]
    },
    {
      "cell_type": "code",
      "source": [
        "for k in grades.keys():\n",
        "  print(k)"
      ],
      "metadata": {
        "colab": {
          "base_uri": "https://localhost:8080/"
        },
        "id": "ncH0pJZZUfXL",
        "outputId": "bab82124-87c5-4ab5-ec44-b3e302a62786"
      },
      "execution_count": 10,
      "outputs": [
        {
          "output_type": "stream",
          "name": "stdout",
          "text": [
            "John\n",
            "Jane\n",
            "Bob\n",
            "Alice\n"
          ]
        }
      ]
    },
    {
      "cell_type": "code",
      "source": [
        "db = {\n",
        "    'example@miami.edu' : {\n",
        "        'First Name' : 'Bob',\n",
        "        'Last Name' : 'Woodward',\n",
        "        'Phone #' : '(555) 123-4567',\n",
        "    },\n",
        "    'example2@miami.edu' : {\n",
        "        'First Name' : 'Jane',\n",
        "        'Last Name' : 'Doe',\n",
        "        'Phone #' : '(555) 987-6543',\n",
        "    }\n",
        "}"
      ],
      "metadata": {
        "id": "CbUHd5-0W9yJ"
      },
      "execution_count": 1,
      "outputs": []
    },
    {
      "cell_type": "code",
      "source": [
        "months = {}\n",
        "\n",
        "names = [\"Jan\", \"Feb\", \"March\", \"April\", \"May\", \"June\", \"July\", \"Aug\", \"Sept\", \"Oct\", \"Nov\", \"Dec\"]\n",
        "\n",
        "for idx in range(len(numbers)):\n",
        "  months[numbers[idx]] = names[idx]\n",
        "numbers = [1, 2, 3, 4, 5, 6, 7, 8, 9, 10, 11, 12]\n",
        "print(months)"
      ],
      "metadata": {
        "colab": {
          "base_uri": "https://localhost:8080/"
        },
        "id": "U7dKdJ0riO3O",
        "outputId": "8462c554-0ed4-4efd-d95c-e9e213fb0137"
      },
      "execution_count": 16,
      "outputs": [
        {
          "output_type": "stream",
          "name": "stdout",
          "text": [
            "{1: 'Jan', 2: 'Feb', 3: 'March', 4: 'April', 5: 'May', 6: 'June', 7: 'July', 8: 'Aug', 9: 'Sept', 10: 'Oct', 11: 'Nov', 12: 'Dec'}\n"
          ]
        }
      ]
    },
    {
      "cell_type": "code",
      "source": [
        "counts = {}\n",
        "while len(counts) < 5:\n",
        "  word = input(\"Enter a word: \")\n",
        "  if word not in counts:\n",
        "    counts[word] = 1\n",
        "  else:\n",
        "    counts[word] += 1\n",
        "print(counts)"
      ],
      "metadata": {
        "colab": {
          "base_uri": "https://localhost:8080/",
          "height": 350
        },
        "id": "S94TZ_tln6Qg",
        "outputId": "2ed0ff2b-7ffe-4e7e-d638-8da04d9cc1b0"
      },
      "execution_count": 2,
      "outputs": [
        {
          "output_type": "error",
          "ename": "KeyboardInterrupt",
          "evalue": "Interrupted by user",
          "traceback": [
            "\u001b[0;31m---------------------------------------------------------------------------\u001b[0m",
            "\u001b[0;31mKeyboardInterrupt\u001b[0m                         Traceback (most recent call last)",
            "\u001b[0;32m<ipython-input-2-b245dd447ca8>\u001b[0m in \u001b[0;36m<cell line: 0>\u001b[0;34m()\u001b[0m\n\u001b[1;32m      1\u001b[0m \u001b[0mcounts\u001b[0m \u001b[0;34m=\u001b[0m \u001b[0;34m{\u001b[0m\u001b[0;34m}\u001b[0m\u001b[0;34m\u001b[0m\u001b[0;34m\u001b[0m\u001b[0m\n\u001b[1;32m      2\u001b[0m \u001b[0;32mwhile\u001b[0m \u001b[0mlen\u001b[0m\u001b[0;34m(\u001b[0m\u001b[0mcounts\u001b[0m\u001b[0;34m)\u001b[0m \u001b[0;34m<\u001b[0m \u001b[0;36m5\u001b[0m\u001b[0;34m:\u001b[0m\u001b[0;34m\u001b[0m\u001b[0;34m\u001b[0m\u001b[0m\n\u001b[0;32m----> 3\u001b[0;31m   \u001b[0mword\u001b[0m \u001b[0;34m=\u001b[0m \u001b[0minput\u001b[0m\u001b[0;34m(\u001b[0m\u001b[0;34m\"Enter a word: \"\u001b[0m\u001b[0;34m)\u001b[0m\u001b[0;34m\u001b[0m\u001b[0;34m\u001b[0m\u001b[0m\n\u001b[0m\u001b[1;32m      4\u001b[0m   \u001b[0;32mif\u001b[0m \u001b[0mword\u001b[0m \u001b[0;32mnot\u001b[0m \u001b[0;32min\u001b[0m \u001b[0mcounts\u001b[0m\u001b[0;34m:\u001b[0m\u001b[0;34m\u001b[0m\u001b[0;34m\u001b[0m\u001b[0m\n\u001b[1;32m      5\u001b[0m     \u001b[0mcounts\u001b[0m\u001b[0;34m[\u001b[0m\u001b[0mword\u001b[0m\u001b[0;34m]\u001b[0m \u001b[0;34m=\u001b[0m \u001b[0;36m1\u001b[0m\u001b[0;34m\u001b[0m\u001b[0;34m\u001b[0m\u001b[0m\n",
            "\u001b[0;32m/usr/local/lib/python3.11/dist-packages/ipykernel/kernelbase.py\u001b[0m in \u001b[0;36mraw_input\u001b[0;34m(self, prompt)\u001b[0m\n\u001b[1;32m   1175\u001b[0m                 \u001b[0;34m\"raw_input was called, but this frontend does not support input requests.\"\u001b[0m\u001b[0;34m\u001b[0m\u001b[0;34m\u001b[0m\u001b[0m\n\u001b[1;32m   1176\u001b[0m             )\n\u001b[0;32m-> 1177\u001b[0;31m         return self._input_request(\n\u001b[0m\u001b[1;32m   1178\u001b[0m             \u001b[0mstr\u001b[0m\u001b[0;34m(\u001b[0m\u001b[0mprompt\u001b[0m\u001b[0;34m)\u001b[0m\u001b[0;34m,\u001b[0m\u001b[0;34m\u001b[0m\u001b[0;34m\u001b[0m\u001b[0m\n\u001b[1;32m   1179\u001b[0m             \u001b[0mself\u001b[0m\u001b[0;34m.\u001b[0m\u001b[0m_parent_ident\u001b[0m\u001b[0;34m[\u001b[0m\u001b[0;34m\"shell\"\u001b[0m\u001b[0;34m]\u001b[0m\u001b[0;34m,\u001b[0m\u001b[0;34m\u001b[0m\u001b[0;34m\u001b[0m\u001b[0m\n",
            "\u001b[0;32m/usr/local/lib/python3.11/dist-packages/ipykernel/kernelbase.py\u001b[0m in \u001b[0;36m_input_request\u001b[0;34m(self, prompt, ident, parent, password)\u001b[0m\n\u001b[1;32m   1217\u001b[0m             \u001b[0;32mexcept\u001b[0m \u001b[0mKeyboardInterrupt\u001b[0m\u001b[0;34m:\u001b[0m\u001b[0;34m\u001b[0m\u001b[0;34m\u001b[0m\u001b[0m\n\u001b[1;32m   1218\u001b[0m                 \u001b[0;31m# re-raise KeyboardInterrupt, to truncate traceback\u001b[0m\u001b[0;34m\u001b[0m\u001b[0;34m\u001b[0m\u001b[0m\n\u001b[0;32m-> 1219\u001b[0;31m                 \u001b[0;32mraise\u001b[0m \u001b[0mKeyboardInterrupt\u001b[0m\u001b[0;34m(\u001b[0m\u001b[0;34m\"Interrupted by user\"\u001b[0m\u001b[0;34m)\u001b[0m \u001b[0;32mfrom\u001b[0m \u001b[0;32mNone\u001b[0m\u001b[0;34m\u001b[0m\u001b[0;34m\u001b[0m\u001b[0m\n\u001b[0m\u001b[1;32m   1220\u001b[0m             \u001b[0;32mexcept\u001b[0m \u001b[0mException\u001b[0m\u001b[0;34m:\u001b[0m\u001b[0;34m\u001b[0m\u001b[0;34m\u001b[0m\u001b[0m\n\u001b[1;32m   1221\u001b[0m                 \u001b[0mself\u001b[0m\u001b[0;34m.\u001b[0m\u001b[0mlog\u001b[0m\u001b[0;34m.\u001b[0m\u001b[0mwarning\u001b[0m\u001b[0;34m(\u001b[0m\u001b[0;34m\"Invalid Message:\"\u001b[0m\u001b[0;34m,\u001b[0m \u001b[0mexc_info\u001b[0m\u001b[0;34m=\u001b[0m\u001b[0;32mTrue\u001b[0m\u001b[0;34m)\u001b[0m\u001b[0;34m\u001b[0m\u001b[0;34m\u001b[0m\u001b[0m\n",
            "\u001b[0;31mKeyboardInterrupt\u001b[0m: Interrupted by user"
          ]
        }
      ]
    },
    {
      "cell_type": "code",
      "source": [
        "odds = [num for num in range(1, 10, 2)]\n",
        "odds"
      ],
      "metadata": {
        "colab": {
          "base_uri": "https://localhost:8080/"
        },
        "id": "DjW-0B-b_ett",
        "outputId": "0c855364-8e47-49aa-e927-81dd7af40c6b"
      },
      "execution_count": 3,
      "outputs": [
        {
          "output_type": "execute_result",
          "data": {
            "text/plain": [
              "[1, 3, 5, 7, 9]"
            ]
          },
          "metadata": {},
          "execution_count": 3
        }
      ]
    },
    {
      "cell_type": "code",
      "source": [
        "def adder(bob,alice):\n",
        "  output = bob + alice\n",
        "  return output\n"
      ],
      "metadata": {
        "id": "eGyQOZZXAGOl"
      },
      "execution_count": 4,
      "outputs": []
    },
    {
      "cell_type": "code",
      "source": [
        "z = adder ([1, 2, 3], ['one', 'two', 'three'])\n",
        "print (z)"
      ],
      "metadata": {
        "colab": {
          "base_uri": "https://localhost:8080/"
        },
        "id": "Y71R0hIZGFPk",
        "outputId": "63c5a398-1675-4810-ac22-c90fe96ca2b6"
      },
      "execution_count": 5,
      "outputs": [
        {
          "output_type": "stream",
          "name": "stdout",
          "text": [
            "[1, 2, 3, 'one', 'two', 'three']\n"
          ]
        }
      ]
    },
    {
      "cell_type": "code",
      "source": [
        "def range_check (item, sequence):\n",
        "  print('Inside range_check')\n",
        "  if item in sequence:\n",
        "    return True\n",
        "  else:\n",
        "    return False\n",
        "\n",
        "print('Program starts...')\n",
        "c = range_check(3, range(2,4))\n",
        "print(c)"
      ],
      "metadata": {
        "colab": {
          "base_uri": "https://localhost:8080/"
        },
        "id": "GDbOofu0GQoq",
        "outputId": "21977d17-fba6-4175-9ba8-28e84d32f02c"
      },
      "execution_count": 1,
      "outputs": [
        {
          "output_type": "stream",
          "name": "stdout",
          "text": [
            "Program starts...\n",
            "Inside range_check\n",
            "True\n"
          ]
        }
      ]
    },
    {
      "cell_type": "code",
      "source": [
        "def reverse_name(first, last, reverse=True):\n",
        "  if reverse:\n",
        "    print(last, ',', first)\n",
        "  else:\n",
        "    print(first, last)\n",
        "\n",
        "reverse_name('John','Doe',)"
      ],
      "metadata": {
        "colab": {
          "base_uri": "https://localhost:8080/"
        },
        "id": "iOQZezwKWCQQ",
        "outputId": "3ffd330d-1756-441a-bd86-d1e39f2408ea"
      },
      "execution_count": 4,
      "outputs": [
        {
          "output_type": "stream",
          "name": "stdout",
          "text": [
            "Doe , John\n"
          ]
        }
      ]
    },
    {
      "cell_type": "code",
      "source": [
        "def calcFee(hours):\n",
        " fee = 5 + (hours * 2.5)\n",
        " if fee < 10:\n",
        "   fee = 10\n",
        " elif fee > 20:\n",
        "   fee = 20\n",
        " print(f'Fee: ${fee}')\n",
        "\n",
        "numHours = int(input('Enter number of hours: '))\n",
        "calcFee(numHours)\n"
      ],
      "metadata": {
        "colab": {
          "base_uri": "https://localhost:8080/"
        },
        "id": "MTlwDx6NXFYI",
        "outputId": "f167c885-1721-4863-c637-a3db0dc27432"
      },
      "execution_count": 15,
      "outputs": [
        {
          "output_type": "stream",
          "name": "stdout",
          "text": [
            "Program starts... \n",
            "Enter number of hours: 5\n",
            "Fee: $17.5\n"
          ]
        }
      ]
    }
  ]
}