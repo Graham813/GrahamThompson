{
  "nbformat": 4,
  "nbformat_minor": 0,
  "metadata": {
    "colab": {
      "provenance": [],
      "authorship_tag": "ABX9TyP+6U4LPknpogBudMqLCXyU",
      "include_colab_link": true
    },
    "kernelspec": {
      "name": "python3",
      "display_name": "Python 3"
    },
    "language_info": {
      "name": "python"
    }
  },
  "cells": [
    {
      "cell_type": "markdown",
      "metadata": {
        "id": "view-in-github",
        "colab_type": "text"
      },
      "source": [
        "<a href=\"https://colab.research.google.com/github/Graham813/GrahamThompson/blob/main/InClassAssignment.ipynb\" target=\"_parent\"><img src=\"https://colab.research.google.com/assets/colab-badge.svg\" alt=\"Open In Colab\"/></a>"
      ]
    },
    {
      "cell_type": "code",
      "execution_count": null,
      "metadata": {
        "colab": {
          "base_uri": "https://localhost:8080/"
        },
        "id": "mx7dI0ZZZ5MQ",
        "outputId": "5e589265-7eea-4983-f0e1-6df534b9343b"
      },
      "outputs": [
        {
          "output_type": "stream",
          "name": "stdout",
          "text": [
            "Pi:  3.14\n",
            "Radius of Cylinder: 3\n",
            "Height of Cylinder: 6\n",
            "Area of Cylinder = 169.56 sq. ft\n"
          ]
        }
      ],
      "source": [
        "pi = 3.14\n",
        "print(\"Pi: \", pi)\n",
        "R = float(input(\"Radius of Cylinder: \"))\n",
        "H = float(input(\"Height of Cylinder: \"))\n",
        "area = (2*pi*(R**2) + (2*pi*R*H))\n",
        "print(f'Area of Cylinder = {area} sq. ft')"
      ]
    },
    {
      "cell_type": "code",
      "source": [],
      "metadata": {
        "id": "K1Z-tNSi1MQL"
      },
      "execution_count": null,
      "outputs": []
    }
  ]
}